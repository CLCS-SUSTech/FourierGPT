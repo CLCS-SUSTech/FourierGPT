{
 "cells": [
  {
   "cell_type": "code",
   "execution_count": 3,
   "metadata": {},
   "outputs": [],
   "source": [
    "import sys\n",
    "sys.path.append('..')\n",
    "from run_fft import FFTProcessor\n",
    "import numpy as np\n",
    "import pandas as pd"
   ]
  },
  {
   "cell_type": "code",
   "execution_count": 3,
   "metadata": {},
   "outputs": [],
   "source": [
    "# Call ggplot in R to plot\n",
    "%load_ext rpy2.ipython"
   ]
  },
  {
   "cell_type": "markdown",
   "metadata": {},
   "source": [
    "### Circular processing"
   ]
  },
  {
   "cell_type": "code",
   "execution_count": 6,
   "metadata": {},
   "outputs": [],
   "source": [
    "def circular(input: list, n: int = None, include_self: bool = True):\n",
    "    if n is None:\n",
    "        n = len(input) - 1\n",
    "    output = []\n",
    "    if include_self:\n",
    "        output.append(input)\n",
    "    for i in range(n):\n",
    "        out = input[i+1:] + input[:i+1]\n",
    "        output.append(out)\n",
    "    return output"
   ]
  },
  {
   "cell_type": "code",
   "execution_count": 3,
   "metadata": {},
   "outputs": [
    {
     "name": "stdout",
     "output_type": "stream",
     "text": [
      "[[1, 2, 3, 4, 5], [2, 3, 4, 5, 1], [3, 4, 5, 1, 2], [4, 5, 1, 2, 3], [5, 1, 2, 3, 4]]\n",
      "[[2, 3, 4, 5, 1], [3, 4, 5, 1, 2], [4, 5, 1, 2, 3], [5, 1, 2, 3, 4]]\n"
     ]
    }
   ],
   "source": [
    "# Test\n",
    "input = [1, 2, 3, 4, 5]\n",
    "print(circular(input, include_self=True))\n",
    "print(circular(input, include_self=False))"
   ]
  },
  {
   "cell_type": "code",
   "execution_count": 4,
   "metadata": {},
   "outputs": [],
   "source": [
    "def get_circular_full(input_file: str, require_sid=True):\n",
    "    fft_processor = FFTProcessor(method='fft', preprocess='logzs', value='norm', require_sid=False)\n",
    "    nll_raw = fft_processor._read_data(data_file=input_file)\n",
    "    circle_results = []\n",
    "    for i, nll in enumerate(nll_raw):\n",
    "        nll_c = circular(nll)\n",
    "        nll_c = fft_processor._preprocess(nll_c)\n",
    "        f, p, sids = fft_processor._fft_batch(nll_c, require_sid=True) # Note this `require_sid` is different from the function argument\n",
    "        df = pd.DataFrame({'freq': np.concatenate(f), \n",
    "                           'power': np.concatenate(p), \n",
    "                           'circular_index': np.concatenate(sids)}) # The `sids` returned from `_fft_batch` means the index of each circular operation\n",
    "        if require_sid: # This is the actual sequence id\n",
    "            df['sid'] = i\n",
    "        circle_results.append(df)\n",
    "    df_circle = pd.concat(circle_results)\n",
    "    return df_circle"
   ]
  },
  {
   "cell_type": "code",
   "execution_count": 7,
   "metadata": {},
   "outputs": [
    {
     "name": "stdout",
     "output_type": "stream",
     "text": [
      "6381006\n",
      "736614\n",
      "6533046\n"
     ]
    }
   ],
   "source": [
    "# Run get_circular_full\n",
    "# est_name = 'mistral'\n",
    "# est_name = 'gpt2xl'\n",
    "est_name = 'gpt2xl'\n",
    "\n",
    "df_circle_writing_orig = get_circular_full(f'../data/gpt-4/writing_gpt-4.original.{est_name}.nll.txt')\n",
    "df_circle_writing_samp = get_circular_full(f'../data/gpt-4/writing_gpt-4.sampled.{est_name}.nll.txt')\n",
    "print(df_circle_writing_orig.shape[0] + df_circle_writing_samp.shape[0])\n",
    "df_circle_writing_orig['type'] = 'Human'\n",
    "df_circle_writing_samp['type'] = 'Sampled'\n",
    "df_circle_writing = pd.concat([df_circle_writing_orig, df_circle_writing_samp])\n",
    "\n",
    "df_circle_pubmed_orig = get_circular_full(f'../data/gpt-4/pubmed_gpt-4.original.{est_name}.nll.txt')\n",
    "df_circle_pubmed_samp = get_circular_full(f'../data/gpt-4/pubmed_gpt-4.sampled.{est_name}.nll.txt')\n",
    "print(df_circle_pubmed_orig.shape[0] + df_circle_pubmed_samp.shape[0])\n",
    "df_circle_pubmed_orig['type'] = 'Human'\n",
    "df_circle_pubmed_samp['type'] = 'Sampled'\n",
    "df_circle_pubmed = pd.concat([df_circle_pubmed_orig, df_circle_pubmed_samp])\n",
    "\n",
    "df_circle_xsum_orig = get_circular_full(f'../data/gpt-4/xsum_gpt-4.original.{est_name}.nll.txt')\n",
    "df_circle_xsum_samp = get_circular_full(f'../data/gpt-4/xsum_gpt-4.sampled.{est_name}.nll.txt')\n",
    "print(df_circle_xsum_orig.shape[0] + df_circle_xsum_samp.shape[0])\n",
    "df_circle_xsum_orig['type'] = 'Human'\n",
    "df_circle_xsum_samp['type'] = 'Sampled'\n",
    "df_circle_xsum = pd.concat([df_circle_xsum_orig, df_circle_xsum_samp])\n"
   ]
  },
  {
   "cell_type": "code",
   "execution_count": 14,
   "metadata": {},
   "outputs": [],
   "source": [
    "# Save circular full data\n",
    "df_circle_pubmed.to_csv(f'../data/gpt-4/pubmed_gpt-4.{est_name}.nlllogzs.fftnorm.circlefull.txt', index=False)\n",
    "df_circle_pubmed.to_hdf(f'../data/gpt-4/pubmed_gpt-4.{est_name}.nlllogzs.fftnorm.circlefull.h5', key='df', mode='w')\n",
    "\n",
    "df_circle_writing.to_csv(f'../data/gpt-4/writing_gpt-4.{est_name}.nlllogzs.fftnorm.circlefull.txt', index=False)\n",
    "df_circle_writing.to_hdf(f'../data/gpt-4/writing_gpt-4.{est_name}.nlllogzs.fftnorm.circlefull.h5', key='df', mode='w')\n",
    "\n",
    "df_circle_xsum.to_csv(f'../data/gpt-4/xsum_gpt-4.{est_name}.nlllogzs.fftnorm.circlefull.txt', index=False)\n",
    "df_circle_xsum.to_hdf(f'../data/gpt-4/xsum_gpt-4.{est_name}.nlllogzs.fftnorm.circlefull.h5', key='df', mode='w')\n"
   ]
  },
  {
   "cell_type": "code",
   "execution_count": null,
   "metadata": {},
   "outputs": [],
   "source": [
    "%%R -i df_circle_norm\n",
    "require(ggplot2)\n",
    "require(stringr)\n",
    "\n",
    "# genre <- \"pubmed_QA\"\n",
    "genre <- \"writing\"\n",
    "\n",
    "# est_name <- \"gpt2xl\"\n",
    "est_name <- \"mistral\"\n",
    "\n",
    "# p <- ggplot(df_circle_norm, aes(x=freq, y=power, color=type)) + geom_smooth(method='gam') + \n",
    "#     theme_bw() + theme(plot.title = element_text(hjust = 0.5, vjust=-12, size = 12)) +\n",
    "#     ggtitle(str_interp(\"${genre}: Human vs. GPT-4 \\nNLL logzs, FFT norm, est ${est_name} \\n Circular\")) +\n",
    "#     labs(x = bquote(omega[k]), y = bquote(X(omega[k])))\n",
    "# ggsave(str_interp(\"gpt4_human_${genre}_${est_name}_nlllogzs_fftnorm_circle.pdf\"), plot=p, width=5, height=5)"
   ]
  },
  {
   "cell_type": "code",
   "execution_count": 7,
   "metadata": {},
   "outputs": [],
   "source": [
    "# For each nll sequence, use circular to compute n spectra, then calculte its mean\n",
    "\n",
    "def get_circular_mean(input_file: str, require_sid=True):\n",
    "    fft_processor = FFTProcessor(method='fft', preprocess='logzs', value='norm', require_sid=False)\n",
    "    nlls = fft_processor._read_data(data_file=input_file)\n",
    "    freqs, powers, sids = [], [], []\n",
    "    for i, nll in enumerate(nlls):\n",
    "        nll_circle = circular(nll)\n",
    "        data = fft_processor._preprocess(nll_circle)\n",
    "        freq, power, _ = fft_processor._fft_batch(data, verbose=False)\n",
    "        power_mean = np.mean(power, axis=0)\n",
    "        freqs.append(freq[0])\n",
    "        powers.append(power_mean)\n",
    "        sids.append(np.repeat(i, len(power_mean)))\n",
    "    if require_sid:\n",
    "        df = pd.DataFrame.from_dict({'freq': np.concatenate(freqs),\n",
    "                                     'power': np.concatenate(powers),\n",
    "                                     'sid': np.concatenate(sids)})\n",
    "    else:\n",
    "        df = pd.DataFrame.from_dict({'freq': np.concatenate(freqs),\n",
    "                                'power': np.concatenate(powers)})\n",
    "    return df"
   ]
  },
  {
   "cell_type": "code",
   "execution_count": 8,
   "metadata": {},
   "outputs": [],
   "source": [
    "# Get circularmean data for GPT-4\n",
    "\n",
    "genre_list = ['writing', 'pubmed', 'xsum']\n",
    "est_name_list = ['mistral', 'gpt2xl']\n",
    "\n",
    "# genre_list = ['pubmed']\n",
    "# est_name_list = ['llama-13b']\n",
    "\n",
    "for genre in genre_list:\n",
    "    for est_name in est_name_list:\n",
    "        df_circlemean_orig = get_circular_mean(f'../data/gpt-4/{genre}_gpt-4.original.{est_name}.nll.txt', require_sid=True)\n",
    "        df_circlemean_samp = get_circular_mean(f'../data/gpt-4/{genre}_gpt-4.sampled.{est_name}.nll.txt', require_sid=True)\n",
    "        df_circlemean_orig.to_csv(f'../data/gpt-4/{genre}_gpt-4.original.{est_name}.nlllogzs.fftnorm.circlemean.txt', index=False)\n",
    "        df_circlemean_samp.to_csv(f'../data/gpt-4/{genre}_gpt-4.sampled.{est_name}.nlllogzs.fftnorm.circlemean.txt', index=False)"
   ]
  },
  {
   "cell_type": "code",
   "execution_count": 23,
   "metadata": {},
   "outputs": [],
   "source": [
    "# Get circularmean data for GPT-3.5-Turbo\n",
    "\n",
    "genre_list = ['writing', 'pubmed', 'xsum']\n",
    "est_name_list = ['mistral', 'gpt2xl']\n",
    "\n",
    "for genre in genre_list:\n",
    "    for est_name in est_name_list:\n",
    "        df_circlemean_orig = get_circular_mean(f'../data/gpt-3.5/{genre}_gpt-3.5-turbo.original.{est_name}.nll.txt', require_sid=True)\n",
    "        df_circlemean_samp = get_circular_mean(f'../data/gpt-3.5/{genre}_gpt-3.5-turbo.sampled.{est_name}.nll.txt', require_sid=True)\n",
    "        df_circlemean_orig.to_csv(f'../data/gpt-3.5/{genre}_gpt-3.5-turbo.original.{est_name}.nlllogzs.fftnorm.circlemean.txt', index=False)\n",
    "        df_circlemean_samp.to_csv(f'../data/gpt-3.5/{genre}_gpt-3.5-turbo.sampled.{est_name}.nlllogzs.fftnorm.circlemean.txt', index=False)"
   ]
  },
  {
   "cell_type": "code",
   "execution_count": 25,
   "metadata": {},
   "outputs": [],
   "source": [
    "# Get circularmean data for Davinci\n",
    "\n",
    "genre_list = ['writing', 'pubmed', 'xsum']\n",
    "est_name_list = ['mistral', 'gpt2xl']\n",
    "\n",
    "for genre in genre_list:\n",
    "    for est_name in est_name_list:\n",
    "        df_circlemean_orig = get_circular_mean(f'../data/davinci/{genre}_davinci.original.{est_name}.nll.txt', require_sid=True)\n",
    "        df_circlemean_samp = get_circular_mean(f'../data/davinci/{genre}_davinci.sampled.{est_name}.nll.txt', require_sid=True)\n",
    "        df_circlemean_orig.to_csv(f'../data/davinci/{genre}_davinci.original.{est_name}.nlllogzs.fftnorm.circlemean.txt', index=False)\n",
    "        df_circlemean_samp.to_csv(f'../data/davinci/{genre}_davinci.sampled.{est_name}.nlllogzs.fftnorm.circlemean.txt', index=False)"
   ]
  },
  {
   "cell_type": "code",
   "execution_count": 6,
   "metadata": {},
   "outputs": [],
   "source": [
    "# Get circularmean data for bigram\n",
    "genre_list = ['writing', 'pubmed', 'xsum']\n",
    "est_name = 'bigram'\n",
    "\n",
    "gpt4_dir = '../data/gpt-4/bigram'\n",
    "chatgpt_dir = '../data/gpt-3.5/bigram'\n",
    "davinci_dir = '../data/davinci/bigram'\n",
    "\n",
    "for genre in genre_list:\n",
    "    # gpt-4\n",
    "    # df_circlemean_orig = get_circular_mean(f'{gpt4_dir}/{genre}_gpt-4.original.{est_name}.nll.txt', require_sid=True)\n",
    "    # df_circlemean_samp = get_circular_mean(f'{gpt4_dir}/{genre}_gpt-4.sampled.{est_name}.nll.txt', require_sid=True)\n",
    "    # df_circlemean_orig.to_csv(f'{gpt4_dir}/fftnorm/{genre}_gpt-4.original.{est_name}.nlllogzs.fftnorm.circlemean.txt', index=False)\n",
    "    # df_circlemean_samp.to_csv(f'{gpt4_dir}/fftnorm/{genre}_gpt-4.sampled.{est_name}.nlllogzs.fftnorm.circlemean.txt', index=False)\n",
    "\n",
    "    # chatgpt/gpt-3.5-turbo\n",
    "    df_circlemean_orig = get_circular_mean(f'{chatgpt_dir}/{genre}_gpt-3.5-turbo.original.{est_name}.nll.txt', require_sid=True)\n",
    "    df_circlemean_samp = get_circular_mean(f'{chatgpt_dir}/{genre}_gpt-3.5-turbo.sampled.{est_name}.nll.txt', require_sid=True)\n",
    "    df_circlemean_orig.to_csv(f'{chatgpt_dir}/fftnorm/{genre}_gpt-3.5-turbo.original.{est_name}.nlllogzs.fftnorm.circlemean.txt', index=False)\n",
    "    df_circlemean_samp.to_csv(f'{chatgpt_dir}/fftnorm/{genre}_gpt-3.5-turbo.sampled.{est_name}.nlllogzs.fftnorm.circlemean.txt', index=False)\n",
    "\n",
    "    # davinci\n",
    "    df_circlemean_orig = get_circular_mean(f'{davinci_dir}/{genre}_davinci.original.{est_name}.nll.txt', require_sid=True)\n",
    "    df_circlemean_samp = get_circular_mean(f'{davinci_dir}/{genre}_davinci.sampled.{est_name}.nll.txt', require_sid=True)\n",
    "    df_circlemean_orig.to_csv(f'{davinci_dir}/fftnorm/{genre}_davinci.original.{est_name}.nlllogzs.fftnorm.circlemean.txt', index=False)\n",
    "    df_circlemean_samp.to_csv(f'{davinci_dir}/fftnorm/{genre}_davinci.sampled.{est_name}.nlllogzs.fftnorm.circlemean.txt', index=False)"
   ]
  },
  {
   "cell_type": "code",
   "execution_count": 9,
   "metadata": {},
   "outputs": [],
   "source": [
    "# Get circularmean data for length chop = 50, 100, 150 data\n",
    "\n",
    "genre_list = ['writing', 'xsum']\n",
    "chop_k_list = [50, 100, 150]\n",
    "est_name = 'gpt2xl'\n",
    "data_dir = '../data/short'\n",
    "\n",
    "for genre in genre_list:\n",
    "    for chop_k in chop_k_list:\n",
    "        df_circlemean_orig = get_circular_mean(f'{data_dir}/{genre}_gpt-4.original.{est_name}.chop{chop_k}.nll.txt', require_sid=True)\n",
    "        df_circlemean_samp = get_circular_mean(f'{data_dir}/{genre}_gpt-4.sampled.{est_name}.chop{chop_k}.nll.txt', require_sid=True)\n",
    "        df_circlemean_orig.to_csv(f'{data_dir}/{genre}_gpt-4.original.{est_name}.chop{chop_k}.nlllogzs.fftnorm.circlemean.txt', index=False)\n",
    "        df_circlemean_samp.to_csv(f'{data_dir}/{genre}_gpt-4.sampled.{est_name}.chop{chop_k}.nlllogzs.fftnorm.circlemean.txt', index=False)"
   ]
  },
  {
   "cell_type": "code",
   "execution_count": null,
   "metadata": {},
   "outputs": [],
   "source": [
    "%%R -i df_circlemean_norm -i df_circlemean_real -i df_circlemean_imag\n",
    "require(ggplot2)\n",
    "\n",
    "genre <- \"pubmed\"\n",
    "# est_name <- \"gpt2xl\"\n",
    "est_name <- \"mistral\"\n",
    "\n",
    "p <- ggplot(df_circlemean_norm, aes(x=freq, y=power, color=type)) + geom_smooth(method='gam') + \n",
    "    theme_bw() + theme(plot.title = element_text(hjust = 0.5, vjust=-12, size = 12)) +\n",
    "    ggtitle(str_interp(\"PubMed: Human vs. GPT-4 \\nNLL logzs, FFT norm, est ${est_name} \\nCircular Mean\")) +\n",
    "    labs(x = bquote(omega[k]), y = bquote(X(omega[k])))\n",
    "ggsave(str_interp(\"gpt4_human_${genre}_${est_name}_nlllogzs_fftnorm_circlemean.pdf\"), plot=p, width=5, height=5)"
   ]
  }
 ],
 "metadata": {
  "kernelspec": {
   "display_name": "base",
   "language": "python",
   "name": "python3"
  },
  "language_info": {
   "codemirror_mode": {
    "name": "ipython",
    "version": 3
   },
   "file_extension": ".py",
   "mimetype": "text/x-python",
   "name": "python",
   "nbconvert_exporter": "python",
   "pygments_lexer": "ipython3",
   "version": "3.11.5"
  }
 },
 "nbformat": 4,
 "nbformat_minor": 2
}
