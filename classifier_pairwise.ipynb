{
 "cells": [
  {
   "cell_type": "code",
   "execution_count": 2,
   "metadata": {},
   "outputs": [],
   "source": [
    "import sys\n",
    "sys.path.append('..')\n",
    "from run_fft import FFTProcessor\n",
    "import numpy as np\n",
    "import pandas as pd\n",
    "import os"
   ]
  },
  {
   "cell_type": "code",
   "execution_count": 3,
   "metadata": {},
   "outputs": [],
   "source": [
    "class SpectrumData():\n",
    "    def __init__(self, filename):\n",
    "        self.filename = filename\n",
    "        self.spectrum_df = self.read_df()\n",
    "    \n",
    "    def read_df(self):\n",
    "        df = pd.read_csv(self.filename)\n",
    "        return df\n",
    "    \n",
    "    def get_dict(self):\n",
    "        result = {}\n",
    "        unique_sids = self.spectrum_df['sid'].unique()\n",
    "        for sid in unique_sids:\n",
    "            sid_df = self.spectrum_df[self.spectrum_df['sid'] == sid]\n",
    "            result[sid] = {\n",
    "                'freq': sid_df['freq'].values,\n",
    "                'power': sid_df['power'].values\n",
    "            }\n",
    "        return result"
   ]
  },
  {
   "cell_type": "code",
   "execution_count": 4,
   "metadata": {},
   "outputs": [],
   "source": [
    "def classify_pair(x_human: dict, x_model: dict, k_freq: int = 10, eps = 0.0, higher = 'model'):\n",
    "    \"\"\"\n",
    "    0 for human, 1 for model\n",
    "    \"\"\"\n",
    "    assert x_human.keys() == x_model.keys()\n",
    "    correct = 0\n",
    "    for sid in x_human.keys():\n",
    "        pow_human = x_human[sid]['power']\n",
    "        pow_model = x_model[sid]['power']\n",
    "        # If higher_spectrum == 'model'\n",
    "        # Hypothesis: pow_samp > pow_orig for k_freq freqs, i.e., Human > Model\n",
    "        if higher == 'model':\n",
    "            if np.sum(pow_model[:k_freq]) - np.sum(pow_human[:k_freq]) > eps:\n",
    "                correct += 1\n",
    "        else:\n",
    "            if np.sum(pow_model[:k_freq]) - np.sum(pow_human[:k_freq]) < eps:\n",
    "                correct += 1\n",
    "    return correct / len(x_human)\n",
    "\n",
    "def select_k(human: dict, model: dict, higher: str):\n",
    "    best_k, best_acc = None, 0.0\n",
    "    for k in range(1, 51):\n",
    "        acc = classify_pair(human, model, k_freq=k, higher=higher)\n",
    "        if acc > best_acc:\n",
    "            best_acc = acc\n",
    "            best_k = k\n",
    "    return best_k, best_acc"
   ]
  },
  {
   "cell_type": "code",
   "execution_count": 77,
   "metadata": {},
   "outputs": [
    {
     "name": "stdout",
     "output_type": "stream",
     "text": [
      "0.9\n",
      "pubmed, mistral, best_k=3, best_acc=0.9\n"
     ]
    }
   ],
   "source": [
    "genre = 'pubmed'\n",
    "est_name = 'mistral'\n",
    "\n",
    "spec_orig = SpectrumData(f'../data/gpt-4/pubmed_gpt-4.original.{est_name}.nllzs.fftnorm.txt')\n",
    "x_human = spec_orig.get_dict()\n",
    "# print(x_orig[0])\n",
    "\n",
    "spec_samp = SpectrumData(f'../data/gpt-4/pubmed_gpt-4.sampled.{est_name}.nllzs.fftnorm.txt')\n",
    "x_model = spec_samp.get_dict()\n",
    "\n",
    "acc = classify_pair(x_human, x_model, k_freq=3, eps=0.0)\n",
    "print(acc)\n",
    "\n",
    "best_k, best_acc = select_k(x_human, x_model, higher='model')\n",
    "print(f'{genre}, {est_name}, best_k={best_k}, best_acc={best_acc}')\n",
    "\n",
    "# pubmed, mistral, k=10, 0.867\n",
    "# pubmed, mistral, k=3, 0.90\n",
    "# pubmed, mistral, k=5, 0.887"
   ]
  },
  {
   "cell_type": "code",
   "execution_count": 10,
   "metadata": {},
   "outputs": [
    {
     "name": "stdout",
     "output_type": "stream",
     "text": [
      "GPT-4:\n",
      "pubmed, mistral, best_k=3, best_acc=0.9000, higher=model\n",
      "pubmed, gpt2xl, best_k=3, best_acc=0.9133, higher=model\n",
      "writing, mistral, best_k=4, best_acc=0.7667, higher=model\n",
      "writing, gpt2xl, best_k=23, best_acc=0.8467, higher=human\n",
      "xsum, mistral, best_k=48, best_acc=0.6533, higher=human\n",
      "xsum, gpt2xl, best_k=29, best_acc=0.8733, higher=human\n"
     ]
    }
   ],
   "source": [
    "# Eval loop for GPT-4\n",
    "print('GPT-4:')\n",
    "\n",
    "for genre in ['pubmed', 'writing', 'xsum']:\n",
    "    for est_name in ['mistral', 'llama', 'gpt2xl', 'gpt2lg', 'gpt2md', 'gpt2']:\n",
    "        orig_filename = f'../data/gpt-4/{genre}_gpt-4.original.{est_name}.nllzs.fftnorm.txt'\n",
    "        samp_filename = f'../data/gpt-4/{genre}_gpt-4.sampled.{est_name}.nllzs.fftnorm.txt'\n",
    "        if not os.path.exists(orig_filename) or not os.path.exists(samp_filename):\n",
    "            continue\n",
    "        spec_orig = SpectrumData(orig_filename)\n",
    "        x_human = spec_orig.get_dict()\n",
    "        spec_samp = SpectrumData(samp_filename)\n",
    "        x_model = spec_samp.get_dict()\n",
    "\n",
    "        best_k_1, best_acc_1 = select_k(x_human, x_model, higher='human')\n",
    "        best_k_2, best_acc_2 = select_k(x_human, x_model, higher='model')\n",
    "        if best_acc_1 > best_acc_2:\n",
    "            best_k = best_k_1\n",
    "            best_acc = best_acc_1\n",
    "            higher = 'human'\n",
    "        else:\n",
    "            best_k = best_k_2\n",
    "            best_acc = best_acc_2\n",
    "            higher = 'model'\n",
    "        print(f'{genre}, {est_name}, best_k={best_k}, best_acc={best_acc:.4f}, higher={higher}')"
   ]
  },
  {
   "cell_type": "code",
   "execution_count": 84,
   "metadata": {},
   "outputs": [
    {
     "name": "stdout",
     "output_type": "stream",
     "text": [
      "GPT-3.5:\n",
      "pubmed, mistral, best_k=2, best_acc=0.9467, higher=model\n",
      "pubmed, gpt2xl, best_k=10, best_acc=0.6200, higher=model\n",
      "writing, mistral, best_k=3, best_acc=0.9200, higher=model\n",
      "writing, gpt2xl, best_k=30, best_acc=0.8533, higher=human\n",
      "xsum, mistral, best_k=4, best_acc=0.9067, higher=model\n",
      "xsum, gpt2xl, best_k=24, best_acc=0.9200, higher=human\n"
     ]
    }
   ],
   "source": [
    "# Eval loop for GPT-3.5\n",
    "print('GPT-3.5:')\n",
    "\n",
    "for genre in ['pubmed', 'writing', 'xsum']:\n",
    "    for est_name in ['mistral', 'llama', 'gpt2xl', 'gpt2lg', 'gpt2md', 'gpt2']:\n",
    "        orig_filename = f'../data/gpt-3.5/{genre}_gpt-3.5-turbo.original.{est_name}.nllzs.fftnorm.txt'\n",
    "        samp_filename = f'../data/gpt-3.5/{genre}_gpt-3.5-turbo.sampled.{est_name}.nllzs.fftnorm.txt'\n",
    "        if not os.path.exists(orig_filename) or not os.path.exists(samp_filename):\n",
    "            continue\n",
    "        spec_orig = SpectrumData(orig_filename)\n",
    "        x_human = spec_orig.get_dict()\n",
    "        spec_samp = SpectrumData(samp_filename)\n",
    "        x_model = spec_samp.get_dict()\n",
    "\n",
    "        best_k_1, best_acc_1 = select_k(x_human, x_model, higher='human')\n",
    "        best_k_2, best_acc_2 = select_k(x_human, x_model, higher='model')\n",
    "        if best_acc_1 > best_acc_2:\n",
    "            best_k = best_k_1\n",
    "            best_acc = best_acc_1\n",
    "            higher = 'human'\n",
    "        else:\n",
    "            best_k = best_k_2\n",
    "            best_acc = best_acc_2\n",
    "            higher = 'model'\n",
    "        print(f'{genre}, {est_name}, best_k={best_k}, best_acc={best_acc:.4f}, higher={higher}')"
   ]
  },
  {
   "cell_type": "code",
   "execution_count": 87,
   "metadata": {},
   "outputs": [
    {
     "name": "stdout",
     "output_type": "stream",
     "text": [
      "GPT-3:\n",
      "pubmed, mistral, best_k=5, best_acc=0.6867, higher=model\n",
      "pubmed, gpt2xl, best_k=10, best_acc=0.6600, higher=model\n",
      "writing, mistral, best_k=10, best_acc=0.7200, higher=model\n",
      "writing, gpt2xl, best_k=40, best_acc=0.6000, higher=model\n",
      "xsum, mistral, best_k=2, best_acc=0.5867, higher=model\n",
      "xsum, gpt2xl, best_k=3, best_acc=0.6067, higher=model\n"
     ]
    }
   ],
   "source": [
    "# Eval loop for Davinci\n",
    "print('GPT-3:')\n",
    "\n",
    "for genre in ['pubmed', 'writing', 'xsum']:\n",
    "    for est_name in ['mistral', 'llama', 'gpt2xl', 'gpt2lg', 'gpt2md', 'gpt2']:\n",
    "        orig_filename = f'../data/davinci/{genre}_davinci.original.{est_name}.nllzs.fftnorm.txt'\n",
    "        samp_filename = f'../data/davinci/{genre}_davinci.sampled.{est_name}.nllzs.fftnorm.txt'\n",
    "        if not os.path.exists(orig_filename) or not os.path.exists(samp_filename):\n",
    "            continue\n",
    "        spec_orig = SpectrumData(orig_filename)\n",
    "        x_human = spec_orig.get_dict()\n",
    "        spec_samp = SpectrumData(samp_filename)\n",
    "        x_model = spec_samp.get_dict()\n",
    "\n",
    "        best_k_1, best_acc_1 = select_k(x_human, x_model, higher='human')\n",
    "        best_k_2, best_acc_2 = select_k(x_human, x_model, higher='model')\n",
    "        if best_acc_1 > best_acc_2:\n",
    "            best_k = best_k_1\n",
    "            best_acc = best_acc_1\n",
    "            higher = 'human'\n",
    "        else:\n",
    "            best_k = best_k_2\n",
    "            best_acc = best_acc_2\n",
    "            higher = 'model'\n",
    "        print(f'{genre}, {est_name}, best_k={best_k}, best_acc={best_acc:.4f}, higher={higher}')"
   ]
  },
  {
   "cell_type": "markdown",
   "metadata": {},
   "source": [
    "### Evaluate classification on bigram as estimator"
   ]
  },
  {
   "cell_type": "code",
   "execution_count": 12,
   "metadata": {},
   "outputs": [
    {
     "name": "stdout",
     "output_type": "stream",
     "text": [
      "bigram GPT-4:\n",
      "pubmed, bigram, best_k=12, best_acc=0.6533, higher=human\n",
      "writing, bigram, best_k=28, best_acc=0.8800, higher=human\n",
      "xsum, bigram, best_k=34, best_acc=0.7667, higher=human\n"
     ]
    }
   ],
   "source": [
    "print('bigram GPT-4:')\n",
    "for genre in ['pubmed', 'writing', 'xsum']:\n",
    "    for est_name in ['bigram']:\n",
    "        orig_filename = f'../data/gpt-4/bigram/fftnorm/{genre}_gpt-4.original.{est_name}.fftnorm.txt'\n",
    "        samp_filename = f'../data/gpt-4/bigram/fftnorm/{genre}_gpt-4.sampled.{est_name}.fftnorm.txt'\n",
    "        if not os.path.exists(orig_filename) or not os.path.exists(samp_filename):\n",
    "            continue\n",
    "        spec_orig = SpectrumData(orig_filename)\n",
    "        x_human = spec_orig.get_dict()\n",
    "        spec_samp = SpectrumData(samp_filename)\n",
    "        x_model = spec_samp.get_dict()\n",
    "\n",
    "        best_k_1, best_acc_1 = select_k(x_human, x_model, higher='human')\n",
    "        best_k_2, best_acc_2 = select_k(x_human, x_model, higher='model')\n",
    "        if best_acc_1 > best_acc_2:\n",
    "            best_k = best_k_1\n",
    "            best_acc = best_acc_1\n",
    "            higher = 'human'\n",
    "        else:\n",
    "            best_k = best_k_2\n",
    "            best_acc = best_acc_2\n",
    "            higher = 'model'\n",
    "        print(f'{genre}, {est_name}, best_k={best_k}, best_acc={best_acc:.4f}, higher={higher}')"
   ]
  },
  {
   "cell_type": "code",
   "execution_count": 13,
   "metadata": {},
   "outputs": [
    {
     "name": "stdout",
     "output_type": "stream",
     "text": [
      "bigram GPT-3.5:\n",
      "pubmed, bigram, best_k=3, best_acc=0.6267, higher=model\n",
      "writing, bigram, best_k=30, best_acc=0.9067, higher=human\n",
      "xsum, bigram, best_k=44, best_acc=0.7800, higher=human\n"
     ]
    }
   ],
   "source": [
    "print('bigram GPT-3.5:')\n",
    "for genre in ['pubmed', 'writing', 'xsum']:\n",
    "    for est_name in ['bigram']:\n",
    "        orig_filename = f'../data/gpt-3.5/bigram/fftnorm/{genre}_gpt-3.5-turbo.original.{est_name}.fftnorm.txt'\n",
    "        samp_filename = f'../data/gpt-3.5/bigram/fftnorm/{genre}_gpt-3.5-turbo.sampled.{est_name}.fftnorm.txt'\n",
    "        if not os.path.exists(orig_filename) or not os.path.exists(samp_filename):\n",
    "            continue\n",
    "        spec_orig = SpectrumData(orig_filename)\n",
    "        x_human = spec_orig.get_dict()\n",
    "        spec_samp = SpectrumData(samp_filename)\n",
    "        x_model = spec_samp.get_dict()\n",
    "\n",
    "        best_k_1, best_acc_1 = select_k(x_human, x_model, higher='human')\n",
    "        best_k_2, best_acc_2 = select_k(x_human, x_model, higher='model')\n",
    "        if best_acc_1 > best_acc_2:\n",
    "            best_k = best_k_1\n",
    "            best_acc = best_acc_1\n",
    "            higher = 'human'\n",
    "        else:\n",
    "            best_k = best_k_2\n",
    "            best_acc = best_acc_2\n",
    "            higher = 'model'\n",
    "        print(f'{genre}, {est_name}, best_k={best_k}, best_acc={best_acc:.4f}, higher={higher}')"
   ]
  },
  {
   "cell_type": "code",
   "execution_count": 14,
   "metadata": {},
   "outputs": [
    {
     "name": "stdout",
     "output_type": "stream",
     "text": [
      "bigram GPT-3:\n",
      "pubmed, bigram, best_k=8, best_acc=0.6733, higher=model\n",
      "writing, bigram, best_k=8, best_acc=0.5733, higher=human\n",
      "xsum, bigram, best_k=26, best_acc=0.6400, higher=model\n"
     ]
    }
   ],
   "source": [
    "print('bigram GPT-3:')\n",
    "for genre in ['pubmed', 'writing', 'xsum']:\n",
    "    for est_name in ['bigram']:\n",
    "        orig_filename = f'../data/davinci/bigram/fftnorm/{genre}_davinci.original.{est_name}.fftnorm.txt'\n",
    "        samp_filename = f'../data/davinci/bigram/fftnorm/{genre}_davinci.sampled.{est_name}.fftnorm.txt'\n",
    "        if not os.path.exists(orig_filename) or not os.path.exists(samp_filename):\n",
    "            continue\n",
    "        spec_orig = SpectrumData(orig_filename)\n",
    "        x_human = spec_orig.get_dict()\n",
    "        spec_samp = SpectrumData(samp_filename)\n",
    "        x_model = spec_samp.get_dict()\n",
    "\n",
    "        best_k_1, best_acc_1 = select_k(x_human, x_model, higher='human')\n",
    "        best_k_2, best_acc_2 = select_k(x_human, x_model, higher='model')\n",
    "        if best_acc_1 > best_acc_2:\n",
    "            best_k = best_k_1\n",
    "            best_acc = best_acc_1\n",
    "            higher = 'human'\n",
    "        else:\n",
    "            best_k = best_k_2\n",
    "            best_acc = best_acc_2\n",
    "            higher = 'model'\n",
    "        print(f'{genre}, {est_name}, best_k={best_k}, best_acc={best_acc:.4f}, higher={higher}')"
   ]
  },
  {
   "cell_type": "markdown",
   "metadata": {},
   "source": [
    "### Classification on chop = 50, 100, 150 data"
   ]
  },
  {
   "cell_type": "code",
   "execution_count": 15,
   "metadata": {},
   "outputs": [
    {
     "name": "stdout",
     "output_type": "stream",
     "text": [
      "Chop length:\n",
      "writing, chop=50, best_k=8, best_acc=0.6800, higher=human\n",
      "writing, chop=100, best_k=13, best_acc=0.8200, higher=human\n",
      "writing, chop=150, best_k=19, best_acc=0.8933, higher=human\n",
      "xsum, chop=50, best_k=5, best_acc=0.6533, higher=human\n",
      "xsum, chop=100, best_k=16, best_acc=0.7533, higher=human\n",
      "xsum, chop=150, best_k=21, best_acc=0.7867, higher=human\n"
     ]
    }
   ],
   "source": [
    "print('Chop length:')\n",
    "\n",
    "for genre in ['writing', 'xsum']:\n",
    "    for chop_k in [50, 100, 150]:\n",
    "        est_name = 'gpt2xl'\n",
    "        orig_filename = f'../data/short/{genre}_gpt-4.original.{est_name}.chop{chop_k}.nllzs.fftnorm.txt'\n",
    "        samp_filename = f'../data/short/{genre}_gpt-4.sampled.{est_name}.chop{chop_k}.nllzs.fftnorm.txt'\n",
    "        if not os.path.exists(orig_filename) or not os.path.exists(samp_filename):\n",
    "            continue\n",
    "        spec_orig = SpectrumData(orig_filename)\n",
    "        x_human = spec_orig.get_dict()\n",
    "        spec_samp = SpectrumData(samp_filename)\n",
    "        x_model = spec_samp.get_dict()\n",
    "\n",
    "        best_k_1, best_acc_1 = select_k(x_human, x_model, higher='human')\n",
    "        best_k_2, best_acc_2 = select_k(x_human, x_model, higher='model')\n",
    "        if best_acc_1 > best_acc_2:\n",
    "            best_k = best_k_1\n",
    "            best_acc = best_acc_1\n",
    "            higher = 'human'\n",
    "        else:\n",
    "            best_k = best_k_2\n",
    "            best_acc = best_acc_2\n",
    "            higher = 'model'\n",
    "        print(f'{genre}, chop={chop_k}, best_k={best_k}, best_acc={best_acc:.4f}, higher={higher}')"
   ]
  },
  {
   "cell_type": "markdown",
   "metadata": {},
   "source": [
    "### Exploring classifier with two thresholds, `k_low`, `k_high`"
   ]
  },
  {
   "cell_type": "code",
   "execution_count": null,
   "metadata": {},
   "outputs": [],
   "source": [
    "def classify_pair(x_human: dict, x_model: dict, k_freq: int = 10, eps = 0.0, higher = 'model'):\n",
    "    \"\"\"\n",
    "    0 for human, 1 for model\n",
    "    \"\"\"\n",
    "    assert x_human.keys() == x_model.keys()\n",
    "    correct = 0\n",
    "    for sid in x_human.keys():\n",
    "        pow_human = x_human[sid]['power']\n",
    "        pow_model = x_model[sid]['power']\n",
    "        # If higher_spectrum == 'model'\n",
    "        # Hypothesis: pow_samp > pow_orig for k_freq freqs, i.e., Human > Model\n",
    "        if higher == 'model':\n",
    "            if np.sum(pow_model[:k_freq]) - np.sum(pow_human[:k_freq]) > eps:\n",
    "                correct += 1\n",
    "        else:\n",
    "            if np.sum(pow_model[:k_freq]) - np.sum(pow_human[:k_freq]) < eps:\n",
    "                correct += 1\n",
    "    return correct / len(x_human)\n",
    "\n",
    "def select_k(human: dict, model: dict, higher: str):\n",
    "    best_k, best_acc = None, 0.0\n",
    "    for k in range(1, 51):\n",
    "        acc = classify_pair(human, model, k_freq=k, higher=higher)\n",
    "        if acc > best_acc:\n",
    "            best_acc = acc\n",
    "            best_k = k\n",
    "    return best_k, best_acc"
   ]
  }
 ],
 "metadata": {
  "kernelspec": {
   "display_name": "base",
   "language": "python",
   "name": "python3"
  },
  "language_info": {
   "codemirror_mode": {
    "name": "ipython",
    "version": 3
   },
   "file_extension": ".py",
   "mimetype": "text/x-python",
   "name": "python",
   "nbconvert_exporter": "python",
   "pygments_lexer": "ipython3",
   "version": "3.11.5"
  }
 },
 "nbformat": 4,
 "nbformat_minor": 2
}
